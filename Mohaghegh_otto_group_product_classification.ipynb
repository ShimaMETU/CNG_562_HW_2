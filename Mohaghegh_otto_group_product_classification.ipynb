{
  "nbformat": 4,
  "nbformat_minor": 0,
  "metadata": {
    "colab": {
      "name": "Mohaghegh_otto_group_product_classification.ipynb",
      "version": "0.3.2",
      "provenance": [],
      "collapsed_sections": [],
      "include_colab_link": true
    },
    "kernelspec": {
      "name": "python3",
      "display_name": "Python 3"
    },
    "accelerator": "GPU"
  },
  "cells": [
    {
      "cell_type": "markdown",
      "metadata": {
        "id": "view-in-github",
        "colab_type": "text"
      },
      "source": [
        "<a href=\"https://colab.research.google.com/github/ShimaMETU/CNG_562_HW_2/blob/master/Mohaghegh_otto_group_product_classification.ipynb\" target=\"_parent\"><img src=\"https://colab.research.google.com/assets/colab-badge.svg\" alt=\"Open In Colab\"/></a>"
      ]
    },
    {
      "cell_type": "markdown",
      "metadata": {
        "id": "lsLUGaS2zDSQ",
        "colab_type": "text"
      },
      "source": [
        "# ***Otto Group Product Classification Challenge***"
      ]
    },
    {
      "cell_type": "markdown",
      "metadata": {
        "id": "ry4XFhvKza6-",
        "colab_type": "text"
      },
      "source": [
        "# *Data fields*\n",
        "\n",
        "id - an anonymous id unique to a product\n",
        "\n",
        "feat_1, feat_2, ..., feat_93 - the various features of a product\n",
        "\n",
        "target - the class of a product"
      ]
    },
    {
      "cell_type": "code",
      "metadata": {
        "id": "wpuq4ct65HsV",
        "colab_type": "code",
        "outputId": "2db61629-aaca-44b0-d7b2-5b27ef049442",
        "colab": {
          "base_uri": "https://localhost:8080/",
          "height": 34
        }
      },
      "source": [
        "%reset\n"
      ],
      "execution_count": 0,
      "outputs": [
        {
          "output_type": "stream",
          "text": [
            "Once deleted, variables cannot be recovered. Proceed (y/[n])? y\n"
          ],
          "name": "stdout"
        }
      ]
    },
    {
      "cell_type": "markdown",
      "metadata": {
        "id": "nkMXWRvV0-Xi",
        "colab_type": "text"
      },
      "source": [
        "# ***First Step: Load Dataset***"
      ]
    },
    {
      "cell_type": "markdown",
      "metadata": {
        "id": "wbswHpsW3S7n",
        "colab_type": "text"
      },
      "source": [
        "***Mount the Google Drive to Google Colab***"
      ]
    },
    {
      "cell_type": "code",
      "metadata": {
        "id": "5wA5oGYf3RT3",
        "colab_type": "code",
        "outputId": "ea2bd65c-cc08-4dd5-ddfc-762bf6cf3ac6",
        "colab": {
          "base_uri": "https://localhost:8080/",
          "height": 121
        }
      },
      "source": [
        "from google.colab import drive\n",
        "drive.mount(\"/content/drive\")"
      ],
      "execution_count": 0,
      "outputs": [
        {
          "output_type": "stream",
          "text": [
            "Go to this URL in a browser: https://accounts.google.com/o/oauth2/auth?client_id=947318989803-6bn6qk8qdgf4n4g3pfee6491hc0brc4i.apps.googleusercontent.com&redirect_uri=urn%3Aietf%3Awg%3Aoauth%3A2.0%3Aoob&scope=email%20https%3A%2F%2Fwww.googleapis.com%2Fauth%2Fdocs.test%20https%3A%2F%2Fwww.googleapis.com%2Fauth%2Fdrive%20https%3A%2F%2Fwww.googleapis.com%2Fauth%2Fdrive.photos.readonly%20https%3A%2F%2Fwww.googleapis.com%2Fauth%2Fpeopleapi.readonly&response_type=code\n",
            "\n",
            "Enter your authorization code:\n",
            "··········\n",
            "Mounted at /content/drive\n"
          ],
          "name": "stdout"
        }
      ]
    },
    {
      "cell_type": "code",
      "metadata": {
        "id": "Rp6Zzl2vx-fX",
        "colab_type": "code",
        "outputId": "f843def3-bbc6-45c2-dccf-652bf12fcbfd",
        "colab": {
          "base_uri": "https://localhost:8080/",
          "height": 244
        }
      },
      "source": [
        "import pandas as pd\n",
        "Otto_Group_Product_Classification_Challenge= pd.read_csv('/content/drive/My Drive/otto-group-product-classification-challenge/train.csv')\n",
        "Otto_Group_Product_Classification_Challenge.head(5)"
      ],
      "execution_count": 0,
      "outputs": [
        {
          "output_type": "execute_result",
          "data": {
            "text/html": [
              "<div>\n",
              "<style scoped>\n",
              "    .dataframe tbody tr th:only-of-type {\n",
              "        vertical-align: middle;\n",
              "    }\n",
              "\n",
              "    .dataframe tbody tr th {\n",
              "        vertical-align: top;\n",
              "    }\n",
              "\n",
              "    .dataframe thead th {\n",
              "        text-align: right;\n",
              "    }\n",
              "</style>\n",
              "<table border=\"1\" class=\"dataframe\">\n",
              "  <thead>\n",
              "    <tr style=\"text-align: right;\">\n",
              "      <th></th>\n",
              "      <th>id</th>\n",
              "      <th>feat_1</th>\n",
              "      <th>feat_2</th>\n",
              "      <th>feat_3</th>\n",
              "      <th>feat_4</th>\n",
              "      <th>feat_5</th>\n",
              "      <th>feat_6</th>\n",
              "      <th>feat_7</th>\n",
              "      <th>feat_8</th>\n",
              "      <th>feat_9</th>\n",
              "      <th>feat_10</th>\n",
              "      <th>feat_11</th>\n",
              "      <th>feat_12</th>\n",
              "      <th>feat_13</th>\n",
              "      <th>feat_14</th>\n",
              "      <th>feat_15</th>\n",
              "      <th>feat_16</th>\n",
              "      <th>feat_17</th>\n",
              "      <th>feat_18</th>\n",
              "      <th>feat_19</th>\n",
              "      <th>feat_20</th>\n",
              "      <th>feat_21</th>\n",
              "      <th>feat_22</th>\n",
              "      <th>feat_23</th>\n",
              "      <th>feat_24</th>\n",
              "      <th>feat_25</th>\n",
              "      <th>feat_26</th>\n",
              "      <th>feat_27</th>\n",
              "      <th>feat_28</th>\n",
              "      <th>feat_29</th>\n",
              "      <th>feat_30</th>\n",
              "      <th>feat_31</th>\n",
              "      <th>feat_32</th>\n",
              "      <th>feat_33</th>\n",
              "      <th>feat_34</th>\n",
              "      <th>feat_35</th>\n",
              "      <th>feat_36</th>\n",
              "      <th>feat_37</th>\n",
              "      <th>feat_38</th>\n",
              "      <th>feat_39</th>\n",
              "      <th>...</th>\n",
              "      <th>feat_55</th>\n",
              "      <th>feat_56</th>\n",
              "      <th>feat_57</th>\n",
              "      <th>feat_58</th>\n",
              "      <th>feat_59</th>\n",
              "      <th>feat_60</th>\n",
              "      <th>feat_61</th>\n",
              "      <th>feat_62</th>\n",
              "      <th>feat_63</th>\n",
              "      <th>feat_64</th>\n",
              "      <th>feat_65</th>\n",
              "      <th>feat_66</th>\n",
              "      <th>feat_67</th>\n",
              "      <th>feat_68</th>\n",
              "      <th>feat_69</th>\n",
              "      <th>feat_70</th>\n",
              "      <th>feat_71</th>\n",
              "      <th>feat_72</th>\n",
              "      <th>feat_73</th>\n",
              "      <th>feat_74</th>\n",
              "      <th>feat_75</th>\n",
              "      <th>feat_76</th>\n",
              "      <th>feat_77</th>\n",
              "      <th>feat_78</th>\n",
              "      <th>feat_79</th>\n",
              "      <th>feat_80</th>\n",
              "      <th>feat_81</th>\n",
              "      <th>feat_82</th>\n",
              "      <th>feat_83</th>\n",
              "      <th>feat_84</th>\n",
              "      <th>feat_85</th>\n",
              "      <th>feat_86</th>\n",
              "      <th>feat_87</th>\n",
              "      <th>feat_88</th>\n",
              "      <th>feat_89</th>\n",
              "      <th>feat_90</th>\n",
              "      <th>feat_91</th>\n",
              "      <th>feat_92</th>\n",
              "      <th>feat_93</th>\n",
              "      <th>target</th>\n",
              "    </tr>\n",
              "  </thead>\n",
              "  <tbody>\n",
              "    <tr>\n",
              "      <th>0</th>\n",
              "      <td>1</td>\n",
              "      <td>1</td>\n",
              "      <td>0</td>\n",
              "      <td>0</td>\n",
              "      <td>0</td>\n",
              "      <td>0</td>\n",
              "      <td>0</td>\n",
              "      <td>0</td>\n",
              "      <td>0</td>\n",
              "      <td>0</td>\n",
              "      <td>0</td>\n",
              "      <td>1</td>\n",
              "      <td>0</td>\n",
              "      <td>0</td>\n",
              "      <td>0</td>\n",
              "      <td>0</td>\n",
              "      <td>0</td>\n",
              "      <td>2</td>\n",
              "      <td>0</td>\n",
              "      <td>0</td>\n",
              "      <td>0</td>\n",
              "      <td>0</td>\n",
              "      <td>1</td>\n",
              "      <td>0</td>\n",
              "      <td>4</td>\n",
              "      <td>1</td>\n",
              "      <td>1</td>\n",
              "      <td>0</td>\n",
              "      <td>0</td>\n",
              "      <td>2</td>\n",
              "      <td>0</td>\n",
              "      <td>0</td>\n",
              "      <td>0</td>\n",
              "      <td>0</td>\n",
              "      <td>0</td>\n",
              "      <td>1</td>\n",
              "      <td>0</td>\n",
              "      <td>0</td>\n",
              "      <td>0</td>\n",
              "      <td>0</td>\n",
              "      <td>...</td>\n",
              "      <td>0</td>\n",
              "      <td>0</td>\n",
              "      <td>2</td>\n",
              "      <td>0</td>\n",
              "      <td>0</td>\n",
              "      <td>11</td>\n",
              "      <td>0</td>\n",
              "      <td>1</td>\n",
              "      <td>1</td>\n",
              "      <td>0</td>\n",
              "      <td>1</td>\n",
              "      <td>0</td>\n",
              "      <td>7</td>\n",
              "      <td>0</td>\n",
              "      <td>0</td>\n",
              "      <td>0</td>\n",
              "      <td>1</td>\n",
              "      <td>0</td>\n",
              "      <td>0</td>\n",
              "      <td>0</td>\n",
              "      <td>0</td>\n",
              "      <td>0</td>\n",
              "      <td>0</td>\n",
              "      <td>0</td>\n",
              "      <td>2</td>\n",
              "      <td>1</td>\n",
              "      <td>0</td>\n",
              "      <td>0</td>\n",
              "      <td>0</td>\n",
              "      <td>0</td>\n",
              "      <td>1</td>\n",
              "      <td>0</td>\n",
              "      <td>0</td>\n",
              "      <td>0</td>\n",
              "      <td>0</td>\n",
              "      <td>0</td>\n",
              "      <td>0</td>\n",
              "      <td>0</td>\n",
              "      <td>0</td>\n",
              "      <td>Class_1</td>\n",
              "    </tr>\n",
              "    <tr>\n",
              "      <th>1</th>\n",
              "      <td>2</td>\n",
              "      <td>0</td>\n",
              "      <td>0</td>\n",
              "      <td>0</td>\n",
              "      <td>0</td>\n",
              "      <td>0</td>\n",
              "      <td>0</td>\n",
              "      <td>0</td>\n",
              "      <td>1</td>\n",
              "      <td>0</td>\n",
              "      <td>0</td>\n",
              "      <td>0</td>\n",
              "      <td>0</td>\n",
              "      <td>0</td>\n",
              "      <td>0</td>\n",
              "      <td>0</td>\n",
              "      <td>0</td>\n",
              "      <td>0</td>\n",
              "      <td>2</td>\n",
              "      <td>0</td>\n",
              "      <td>0</td>\n",
              "      <td>0</td>\n",
              "      <td>0</td>\n",
              "      <td>0</td>\n",
              "      <td>0</td>\n",
              "      <td>0</td>\n",
              "      <td>0</td>\n",
              "      <td>0</td>\n",
              "      <td>0</td>\n",
              "      <td>0</td>\n",
              "      <td>0</td>\n",
              "      <td>0</td>\n",
              "      <td>0</td>\n",
              "      <td>0</td>\n",
              "      <td>0</td>\n",
              "      <td>0</td>\n",
              "      <td>0</td>\n",
              "      <td>1</td>\n",
              "      <td>0</td>\n",
              "      <td>0</td>\n",
              "      <td>...</td>\n",
              "      <td>0</td>\n",
              "      <td>0</td>\n",
              "      <td>0</td>\n",
              "      <td>1</td>\n",
              "      <td>0</td>\n",
              "      <td>0</td>\n",
              "      <td>0</td>\n",
              "      <td>0</td>\n",
              "      <td>0</td>\n",
              "      <td>1</td>\n",
              "      <td>0</td>\n",
              "      <td>0</td>\n",
              "      <td>1</td>\n",
              "      <td>0</td>\n",
              "      <td>0</td>\n",
              "      <td>0</td>\n",
              "      <td>0</td>\n",
              "      <td>0</td>\n",
              "      <td>2</td>\n",
              "      <td>1</td>\n",
              "      <td>0</td>\n",
              "      <td>1</td>\n",
              "      <td>0</td>\n",
              "      <td>1</td>\n",
              "      <td>0</td>\n",
              "      <td>0</td>\n",
              "      <td>0</td>\n",
              "      <td>0</td>\n",
              "      <td>0</td>\n",
              "      <td>0</td>\n",
              "      <td>0</td>\n",
              "      <td>0</td>\n",
              "      <td>0</td>\n",
              "      <td>0</td>\n",
              "      <td>0</td>\n",
              "      <td>0</td>\n",
              "      <td>0</td>\n",
              "      <td>0</td>\n",
              "      <td>0</td>\n",
              "      <td>Class_1</td>\n",
              "    </tr>\n",
              "    <tr>\n",
              "      <th>2</th>\n",
              "      <td>3</td>\n",
              "      <td>0</td>\n",
              "      <td>0</td>\n",
              "      <td>0</td>\n",
              "      <td>0</td>\n",
              "      <td>0</td>\n",
              "      <td>0</td>\n",
              "      <td>0</td>\n",
              "      <td>1</td>\n",
              "      <td>0</td>\n",
              "      <td>0</td>\n",
              "      <td>0</td>\n",
              "      <td>0</td>\n",
              "      <td>0</td>\n",
              "      <td>0</td>\n",
              "      <td>0</td>\n",
              "      <td>0</td>\n",
              "      <td>1</td>\n",
              "      <td>0</td>\n",
              "      <td>0</td>\n",
              "      <td>0</td>\n",
              "      <td>0</td>\n",
              "      <td>0</td>\n",
              "      <td>0</td>\n",
              "      <td>0</td>\n",
              "      <td>0</td>\n",
              "      <td>0</td>\n",
              "      <td>0</td>\n",
              "      <td>0</td>\n",
              "      <td>0</td>\n",
              "      <td>0</td>\n",
              "      <td>0</td>\n",
              "      <td>0</td>\n",
              "      <td>1</td>\n",
              "      <td>0</td>\n",
              "      <td>0</td>\n",
              "      <td>0</td>\n",
              "      <td>0</td>\n",
              "      <td>0</td>\n",
              "      <td>0</td>\n",
              "      <td>...</td>\n",
              "      <td>1</td>\n",
              "      <td>0</td>\n",
              "      <td>0</td>\n",
              "      <td>0</td>\n",
              "      <td>0</td>\n",
              "      <td>0</td>\n",
              "      <td>0</td>\n",
              "      <td>0</td>\n",
              "      <td>0</td>\n",
              "      <td>0</td>\n",
              "      <td>0</td>\n",
              "      <td>0</td>\n",
              "      <td>6</td>\n",
              "      <td>0</td>\n",
              "      <td>0</td>\n",
              "      <td>2</td>\n",
              "      <td>0</td>\n",
              "      <td>0</td>\n",
              "      <td>0</td>\n",
              "      <td>0</td>\n",
              "      <td>0</td>\n",
              "      <td>0</td>\n",
              "      <td>0</td>\n",
              "      <td>0</td>\n",
              "      <td>0</td>\n",
              "      <td>0</td>\n",
              "      <td>1</td>\n",
              "      <td>0</td>\n",
              "      <td>0</td>\n",
              "      <td>0</td>\n",
              "      <td>0</td>\n",
              "      <td>0</td>\n",
              "      <td>0</td>\n",
              "      <td>0</td>\n",
              "      <td>0</td>\n",
              "      <td>0</td>\n",
              "      <td>0</td>\n",
              "      <td>0</td>\n",
              "      <td>0</td>\n",
              "      <td>Class_1</td>\n",
              "    </tr>\n",
              "    <tr>\n",
              "      <th>3</th>\n",
              "      <td>4</td>\n",
              "      <td>1</td>\n",
              "      <td>0</td>\n",
              "      <td>0</td>\n",
              "      <td>1</td>\n",
              "      <td>6</td>\n",
              "      <td>1</td>\n",
              "      <td>5</td>\n",
              "      <td>0</td>\n",
              "      <td>0</td>\n",
              "      <td>1</td>\n",
              "      <td>1</td>\n",
              "      <td>0</td>\n",
              "      <td>1</td>\n",
              "      <td>0</td>\n",
              "      <td>0</td>\n",
              "      <td>1</td>\n",
              "      <td>1</td>\n",
              "      <td>0</td>\n",
              "      <td>0</td>\n",
              "      <td>0</td>\n",
              "      <td>0</td>\n",
              "      <td>0</td>\n",
              "      <td>0</td>\n",
              "      <td>7</td>\n",
              "      <td>2</td>\n",
              "      <td>2</td>\n",
              "      <td>0</td>\n",
              "      <td>0</td>\n",
              "      <td>0</td>\n",
              "      <td>58</td>\n",
              "      <td>0</td>\n",
              "      <td>10</td>\n",
              "      <td>0</td>\n",
              "      <td>0</td>\n",
              "      <td>0</td>\n",
              "      <td>0</td>\n",
              "      <td>0</td>\n",
              "      <td>3</td>\n",
              "      <td>0</td>\n",
              "      <td>...</td>\n",
              "      <td>1</td>\n",
              "      <td>0</td>\n",
              "      <td>0</td>\n",
              "      <td>0</td>\n",
              "      <td>0</td>\n",
              "      <td>0</td>\n",
              "      <td>0</td>\n",
              "      <td>0</td>\n",
              "      <td>0</td>\n",
              "      <td>0</td>\n",
              "      <td>2</td>\n",
              "      <td>1</td>\n",
              "      <td>5</td>\n",
              "      <td>0</td>\n",
              "      <td>0</td>\n",
              "      <td>4</td>\n",
              "      <td>0</td>\n",
              "      <td>0</td>\n",
              "      <td>2</td>\n",
              "      <td>1</td>\n",
              "      <td>0</td>\n",
              "      <td>1</td>\n",
              "      <td>0</td>\n",
              "      <td>0</td>\n",
              "      <td>1</td>\n",
              "      <td>1</td>\n",
              "      <td>2</td>\n",
              "      <td>2</td>\n",
              "      <td>0</td>\n",
              "      <td>22</td>\n",
              "      <td>0</td>\n",
              "      <td>1</td>\n",
              "      <td>2</td>\n",
              "      <td>0</td>\n",
              "      <td>0</td>\n",
              "      <td>0</td>\n",
              "      <td>0</td>\n",
              "      <td>0</td>\n",
              "      <td>0</td>\n",
              "      <td>Class_1</td>\n",
              "    </tr>\n",
              "    <tr>\n",
              "      <th>4</th>\n",
              "      <td>5</td>\n",
              "      <td>0</td>\n",
              "      <td>0</td>\n",
              "      <td>0</td>\n",
              "      <td>0</td>\n",
              "      <td>0</td>\n",
              "      <td>0</td>\n",
              "      <td>0</td>\n",
              "      <td>0</td>\n",
              "      <td>0</td>\n",
              "      <td>0</td>\n",
              "      <td>0</td>\n",
              "      <td>0</td>\n",
              "      <td>0</td>\n",
              "      <td>0</td>\n",
              "      <td>0</td>\n",
              "      <td>0</td>\n",
              "      <td>4</td>\n",
              "      <td>0</td>\n",
              "      <td>0</td>\n",
              "      <td>0</td>\n",
              "      <td>0</td>\n",
              "      <td>0</td>\n",
              "      <td>0</td>\n",
              "      <td>1</td>\n",
              "      <td>0</td>\n",
              "      <td>0</td>\n",
              "      <td>0</td>\n",
              "      <td>0</td>\n",
              "      <td>0</td>\n",
              "      <td>0</td>\n",
              "      <td>0</td>\n",
              "      <td>0</td>\n",
              "      <td>0</td>\n",
              "      <td>0</td>\n",
              "      <td>0</td>\n",
              "      <td>0</td>\n",
              "      <td>0</td>\n",
              "      <td>0</td>\n",
              "      <td>0</td>\n",
              "      <td>...</td>\n",
              "      <td>0</td>\n",
              "      <td>0</td>\n",
              "      <td>0</td>\n",
              "      <td>0</td>\n",
              "      <td>0</td>\n",
              "      <td>0</td>\n",
              "      <td>0</td>\n",
              "      <td>1</td>\n",
              "      <td>0</td>\n",
              "      <td>0</td>\n",
              "      <td>0</td>\n",
              "      <td>0</td>\n",
              "      <td>0</td>\n",
              "      <td>1</td>\n",
              "      <td>0</td>\n",
              "      <td>0</td>\n",
              "      <td>3</td>\n",
              "      <td>0</td>\n",
              "      <td>0</td>\n",
              "      <td>0</td>\n",
              "      <td>0</td>\n",
              "      <td>0</td>\n",
              "      <td>0</td>\n",
              "      <td>0</td>\n",
              "      <td>4</td>\n",
              "      <td>0</td>\n",
              "      <td>1</td>\n",
              "      <td>0</td>\n",
              "      <td>0</td>\n",
              "      <td>0</td>\n",
              "      <td>1</td>\n",
              "      <td>0</td>\n",
              "      <td>0</td>\n",
              "      <td>0</td>\n",
              "      <td>0</td>\n",
              "      <td>1</td>\n",
              "      <td>0</td>\n",
              "      <td>0</td>\n",
              "      <td>0</td>\n",
              "      <td>Class_1</td>\n",
              "    </tr>\n",
              "  </tbody>\n",
              "</table>\n",
              "<p>5 rows × 95 columns</p>\n",
              "</div>"
            ],
            "text/plain": [
              "   id  feat_1  feat_2  feat_3  ...  feat_91  feat_92  feat_93   target\n",
              "0   1       1       0       0  ...        0        0        0  Class_1\n",
              "1   2       0       0       0  ...        0        0        0  Class_1\n",
              "2   3       0       0       0  ...        0        0        0  Class_1\n",
              "3   4       1       0       0  ...        0        0        0  Class_1\n",
              "4   5       0       0       0  ...        0        0        0  Class_1\n",
              "\n",
              "[5 rows x 95 columns]"
            ]
          },
          "metadata": {
            "tags": []
          },
          "execution_count": 3
        }
      ]
    },
    {
      "cell_type": "markdown",
      "metadata": {
        "id": "ijI8Qpwb4lM3",
        "colab_type": "text"
      },
      "source": [
        "# ***Data prepration***"
      ]
    },
    {
      "cell_type": "code",
      "metadata": {
        "id": "3BLDp5yu4dMI",
        "colab_type": "code",
        "outputId": "bb584439-3fb4-4d62-dc1e-95f9acde8441",
        "colab": {
          "base_uri": "https://localhost:8080/",
          "height": 151
        }
      },
      "source": [
        "import numpy as np\n",
        "from sklearn.model_selection import train_test_split\n",
        "from keras.utils import to_categorical\n",
        "\n",
        "temp = Otto_Group_Product_Classification_Challenge.to_numpy()\n",
        "X = temp.T[1:-2].T\n",
        "y = temp.T[-1].T\n",
        "\n",
        "for i in range(len(y)):\n",
        "  y[i] = float(y[i][-1])\n",
        "y = np.array(y).reshape(-1,1)\n",
        "\n",
        "x_train, x_test, y_train, y_test = train_test_split(X, y, test_size=0.20, random_state=101)\n",
        "y_on_hot = to_categorical(y_train-1)\n",
        "y_test_one_hot = to_categorical(y_test-1)\n",
        "x_train.shape ,x_train.shape ,x_test.shape ,y_train.shape ,y_test.shape ,y_on_hot.shape ,y_test_one_hot.shape"
      ],
      "execution_count": 0,
      "outputs": [
        {
          "output_type": "stream",
          "text": [
            "Using TensorFlow backend.\n"
          ],
          "name": "stderr"
        },
        {
          "output_type": "execute_result",
          "data": {
            "text/plain": [
              "((49502, 92),\n",
              " (49502, 92),\n",
              " (12376, 92),\n",
              " (49502, 1),\n",
              " (12376, 1),\n",
              " (49502, 9),\n",
              " (12376, 9))"
            ]
          },
          "metadata": {
            "tags": []
          },
          "execution_count": 4
        }
      ]
    },
    {
      "cell_type": "markdown",
      "metadata": {
        "id": "cFUFoBXX8oVM",
        "colab_type": "text"
      },
      "source": [
        "# ***Training a Multi-layer Perceptron (MLP)***"
      ]
    },
    {
      "cell_type": "code",
      "metadata": {
        "id": "jDXEbqdn8nDM",
        "colab_type": "code",
        "outputId": "d000eac5-d62d-43e7-d9b0-96962a81cbd1",
        "colab": {
          "base_uri": "https://localhost:8080/",
          "height": 5194
        }
      },
      "source": [
        "import keras\n",
        "from keras import Sequential\n",
        "from keras import layers\n",
        "from keras import optimizers\n",
        "\n",
        "MLP_model = Sequential()\n",
        "MLP_model.add(layers.Dense(60,activation=\"tanh\",input_shape=(92,)))\n",
        "MLP_model.add(layers.Dense(35,activation=\"tanh\"))\n",
        "MLP_model.add(layers.Dense(9,activation=\"softmax\"))\n",
        "MLP_model.compile(loss=\"mean_squared_error\",optimizer=optimizers.Adam(),metrics=['acc'])\n",
        "MLP_history = MLP_model.fit(x_train, y_on_hot, batch_size=512, epochs=150, validation_data=(x_test, y_test_one_hot))"
      ],
      "execution_count": 0,
      "outputs": [
        {
          "output_type": "stream",
          "text": [
            "WARNING:tensorflow:From /usr/local/lib/python3.6/dist-packages/tensorflow/python/framework/op_def_library.py:263: colocate_with (from tensorflow.python.framework.ops) is deprecated and will be removed in a future version.\n",
            "Instructions for updating:\n",
            "Colocations handled automatically by placer.\n",
            "WARNING:tensorflow:From /usr/local/lib/python3.6/dist-packages/tensorflow/python/ops/math_ops.py:3066: to_int32 (from tensorflow.python.ops.math_ops) is deprecated and will be removed in a future version.\n",
            "Instructions for updating:\n",
            "Use tf.cast instead.\n",
            "Train on 49502 samples, validate on 12376 samples\n",
            "Epoch 1/150\n",
            "49502/49502 [==============================] - 3s 61us/step - loss: 0.0560 - acc: 0.6280 - val_loss: 0.0419 - val_acc: 0.7239\n",
            "Epoch 2/150\n",
            "49502/49502 [==============================] - 1s 11us/step - loss: 0.0386 - acc: 0.7475 - val_loss: 0.0379 - val_acc: 0.7520\n",
            "Epoch 3/150\n",
            "49502/49502 [==============================] - 1s 10us/step - loss: 0.0357 - acc: 0.7664 - val_loss: 0.0361 - val_acc: 0.7637\n",
            "Epoch 4/150\n",
            "49502/49502 [==============================] - 1s 10us/step - loss: 0.0341 - acc: 0.7778 - val_loss: 0.0350 - val_acc: 0.7698\n",
            "Epoch 5/150\n",
            "49502/49502 [==============================] - 1s 10us/step - loss: 0.0330 - acc: 0.7857 - val_loss: 0.0343 - val_acc: 0.7737\n",
            "Epoch 6/150\n",
            "49502/49502 [==============================] - 1s 11us/step - loss: 0.0321 - acc: 0.7928 - val_loss: 0.0339 - val_acc: 0.7737\n",
            "Epoch 7/150\n",
            "49502/49502 [==============================] - 1s 11us/step - loss: 0.0315 - acc: 0.7978 - val_loss: 0.0335 - val_acc: 0.7766\n",
            "Epoch 8/150\n",
            "49502/49502 [==============================] - 1s 11us/step - loss: 0.0309 - acc: 0.8023 - val_loss: 0.0331 - val_acc: 0.7803\n",
            "Epoch 9/150\n",
            "49502/49502 [==============================] - 1s 11us/step - loss: 0.0304 - acc: 0.8061 - val_loss: 0.0327 - val_acc: 0.7848\n",
            "Epoch 10/150\n",
            "49502/49502 [==============================] - 1s 11us/step - loss: 0.0300 - acc: 0.8096 - val_loss: 0.0327 - val_acc: 0.7845\n",
            "Epoch 11/150\n",
            "49502/49502 [==============================] - 1s 11us/step - loss: 0.0297 - acc: 0.8109 - val_loss: 0.0324 - val_acc: 0.7885\n",
            "Epoch 12/150\n",
            "49502/49502 [==============================] - 1s 11us/step - loss: 0.0293 - acc: 0.8143 - val_loss: 0.0323 - val_acc: 0.7873\n",
            "Epoch 13/150\n",
            "49502/49502 [==============================] - 1s 11us/step - loss: 0.0290 - acc: 0.8160 - val_loss: 0.0322 - val_acc: 0.7885\n",
            "Epoch 14/150\n",
            "49502/49502 [==============================] - 1s 11us/step - loss: 0.0286 - acc: 0.8183 - val_loss: 0.0320 - val_acc: 0.7906\n",
            "Epoch 15/150\n",
            "49502/49502 [==============================] - 1s 11us/step - loss: 0.0284 - acc: 0.8205 - val_loss: 0.0321 - val_acc: 0.7894\n",
            "Epoch 16/150\n",
            "49502/49502 [==============================] - 1s 11us/step - loss: 0.0281 - acc: 0.8219 - val_loss: 0.0318 - val_acc: 0.7908\n",
            "Epoch 17/150\n",
            "49502/49502 [==============================] - 1s 11us/step - loss: 0.0279 - acc: 0.8249 - val_loss: 0.0318 - val_acc: 0.7921\n",
            "Epoch 18/150\n",
            "49502/49502 [==============================] - 1s 11us/step - loss: 0.0276 - acc: 0.8265 - val_loss: 0.0318 - val_acc: 0.7917\n",
            "Epoch 19/150\n",
            "49502/49502 [==============================] - 1s 11us/step - loss: 0.0274 - acc: 0.8263 - val_loss: 0.0320 - val_acc: 0.7907\n",
            "Epoch 20/150\n",
            "49502/49502 [==============================] - 1s 10us/step - loss: 0.0272 - acc: 0.8301 - val_loss: 0.0319 - val_acc: 0.7946\n",
            "Epoch 21/150\n",
            "49502/49502 [==============================] - 1s 11us/step - loss: 0.0270 - acc: 0.8300 - val_loss: 0.0318 - val_acc: 0.7911\n",
            "Epoch 22/150\n",
            "49502/49502 [==============================] - 1s 11us/step - loss: 0.0268 - acc: 0.8336 - val_loss: 0.0317 - val_acc: 0.7935\n",
            "Epoch 23/150\n",
            "49502/49502 [==============================] - 1s 11us/step - loss: 0.0266 - acc: 0.8330 - val_loss: 0.0318 - val_acc: 0.7946\n",
            "Epoch 24/150\n",
            "49502/49502 [==============================] - 1s 10us/step - loss: 0.0264 - acc: 0.8357 - val_loss: 0.0318 - val_acc: 0.7939\n",
            "Epoch 25/150\n",
            "49502/49502 [==============================] - 1s 11us/step - loss: 0.0263 - acc: 0.8362 - val_loss: 0.0317 - val_acc: 0.7931\n",
            "Epoch 26/150\n",
            "49502/49502 [==============================] - 1s 11us/step - loss: 0.0260 - acc: 0.8383 - val_loss: 0.0319 - val_acc: 0.7931\n",
            "Epoch 27/150\n",
            "49502/49502 [==============================] - 1s 11us/step - loss: 0.0259 - acc: 0.8388 - val_loss: 0.0319 - val_acc: 0.7931\n",
            "Epoch 28/150\n",
            "49502/49502 [==============================] - 1s 10us/step - loss: 0.0257 - acc: 0.8403 - val_loss: 0.0320 - val_acc: 0.7923\n",
            "Epoch 29/150\n",
            "49502/49502 [==============================] - 1s 11us/step - loss: 0.0256 - acc: 0.8416 - val_loss: 0.0319 - val_acc: 0.7928\n",
            "Epoch 30/150\n",
            "49502/49502 [==============================] - 1s 10us/step - loss: 0.0255 - acc: 0.8415 - val_loss: 0.0320 - val_acc: 0.7909\n",
            "Epoch 31/150\n",
            "49502/49502 [==============================] - 1s 11us/step - loss: 0.0253 - acc: 0.8443 - val_loss: 0.0319 - val_acc: 0.7929\n",
            "Epoch 32/150\n",
            "49502/49502 [==============================] - 1s 10us/step - loss: 0.0252 - acc: 0.8446 - val_loss: 0.0319 - val_acc: 0.7959\n",
            "Epoch 33/150\n",
            "49502/49502 [==============================] - 1s 11us/step - loss: 0.0250 - acc: 0.8444 - val_loss: 0.0322 - val_acc: 0.7930\n",
            "Epoch 34/150\n",
            "49502/49502 [==============================] - 1s 10us/step - loss: 0.0249 - acc: 0.8468 - val_loss: 0.0320 - val_acc: 0.7944\n",
            "Epoch 35/150\n",
            "49502/49502 [==============================] - 1s 11us/step - loss: 0.0247 - acc: 0.8490 - val_loss: 0.0321 - val_acc: 0.7946\n",
            "Epoch 36/150\n",
            "49502/49502 [==============================] - 1s 11us/step - loss: 0.0246 - acc: 0.8492 - val_loss: 0.0320 - val_acc: 0.7948\n",
            "Epoch 37/150\n",
            "49502/49502 [==============================] - 1s 11us/step - loss: 0.0245 - acc: 0.8510 - val_loss: 0.0322 - val_acc: 0.7927\n",
            "Epoch 38/150\n",
            "49502/49502 [==============================] - 1s 11us/step - loss: 0.0244 - acc: 0.8511 - val_loss: 0.0321 - val_acc: 0.7931\n",
            "Epoch 39/150\n",
            "49502/49502 [==============================] - 1s 11us/step - loss: 0.0242 - acc: 0.8517 - val_loss: 0.0323 - val_acc: 0.7938\n",
            "Epoch 40/150\n",
            "49502/49502 [==============================] - 1s 11us/step - loss: 0.0242 - acc: 0.8530 - val_loss: 0.0322 - val_acc: 0.7934\n",
            "Epoch 41/150\n",
            "49502/49502 [==============================] - 1s 11us/step - loss: 0.0240 - acc: 0.8540 - val_loss: 0.0325 - val_acc: 0.7922\n",
            "Epoch 42/150\n",
            "49502/49502 [==============================] - 1s 11us/step - loss: 0.0240 - acc: 0.8549 - val_loss: 0.0325 - val_acc: 0.7933\n",
            "Epoch 43/150\n",
            "49502/49502 [==============================] - 1s 10us/step - loss: 0.0239 - acc: 0.8544 - val_loss: 0.0324 - val_acc: 0.7932\n",
            "Epoch 44/150\n",
            "49502/49502 [==============================] - 1s 11us/step - loss: 0.0237 - acc: 0.8565 - val_loss: 0.0324 - val_acc: 0.7931\n",
            "Epoch 45/150\n",
            "49502/49502 [==============================] - 1s 11us/step - loss: 0.0237 - acc: 0.8556 - val_loss: 0.0326 - val_acc: 0.7932\n",
            "Epoch 46/150\n",
            "49502/49502 [==============================] - 1s 11us/step - loss: 0.0236 - acc: 0.8572 - val_loss: 0.0327 - val_acc: 0.7919\n",
            "Epoch 47/150\n",
            "49502/49502 [==============================] - 1s 10us/step - loss: 0.0234 - acc: 0.8588 - val_loss: 0.0326 - val_acc: 0.7926\n",
            "Epoch 48/150\n",
            "49502/49502 [==============================] - 1s 11us/step - loss: 0.0234 - acc: 0.8591 - val_loss: 0.0327 - val_acc: 0.7924\n",
            "Epoch 49/150\n",
            "49502/49502 [==============================] - 1s 11us/step - loss: 0.0233 - acc: 0.8599 - val_loss: 0.0325 - val_acc: 0.7941\n",
            "Epoch 50/150\n",
            "49502/49502 [==============================] - 1s 11us/step - loss: 0.0231 - acc: 0.8608 - val_loss: 0.0327 - val_acc: 0.7945\n",
            "Epoch 51/150\n",
            "49502/49502 [==============================] - 1s 10us/step - loss: 0.0231 - acc: 0.8612 - val_loss: 0.0327 - val_acc: 0.7943\n",
            "Epoch 52/150\n",
            "49502/49502 [==============================] - 1s 11us/step - loss: 0.0230 - acc: 0.8619 - val_loss: 0.0330 - val_acc: 0.7916\n",
            "Epoch 53/150\n",
            "49502/49502 [==============================] - 1s 11us/step - loss: 0.0230 - acc: 0.8633 - val_loss: 0.0328 - val_acc: 0.7928\n",
            "Epoch 54/150\n",
            "49502/49502 [==============================] - 1s 11us/step - loss: 0.0229 - acc: 0.8625 - val_loss: 0.0328 - val_acc: 0.7919\n",
            "Epoch 55/150\n",
            "49502/49502 [==============================] - 1s 11us/step - loss: 0.0228 - acc: 0.8637 - val_loss: 0.0330 - val_acc: 0.7884\n",
            "Epoch 56/150\n",
            "49502/49502 [==============================] - 1s 11us/step - loss: 0.0227 - acc: 0.8644 - val_loss: 0.0329 - val_acc: 0.7936\n",
            "Epoch 57/150\n",
            "49502/49502 [==============================] - 1s 11us/step - loss: 0.0227 - acc: 0.8649 - val_loss: 0.0328 - val_acc: 0.7936\n",
            "Epoch 58/150\n",
            "49502/49502 [==============================] - 1s 11us/step - loss: 0.0226 - acc: 0.8656 - val_loss: 0.0331 - val_acc: 0.7915\n",
            "Epoch 59/150\n",
            "49502/49502 [==============================] - 1s 11us/step - loss: 0.0225 - acc: 0.8665 - val_loss: 0.0332 - val_acc: 0.7910\n",
            "Epoch 60/150\n",
            "49502/49502 [==============================] - 1s 11us/step - loss: 0.0224 - acc: 0.8669 - val_loss: 0.0333 - val_acc: 0.7908\n",
            "Epoch 61/150\n",
            "49502/49502 [==============================] - 1s 11us/step - loss: 0.0223 - acc: 0.8673 - val_loss: 0.0332 - val_acc: 0.7914\n",
            "Epoch 62/150\n",
            "49502/49502 [==============================] - 1s 11us/step - loss: 0.0223 - acc: 0.8680 - val_loss: 0.0331 - val_acc: 0.7922\n",
            "Epoch 63/150\n",
            "49502/49502 [==============================] - 1s 10us/step - loss: 0.0222 - acc: 0.8686 - val_loss: 0.0333 - val_acc: 0.7902\n",
            "Epoch 64/150\n",
            "49502/49502 [==============================] - 1s 11us/step - loss: 0.0221 - acc: 0.8693 - val_loss: 0.0333 - val_acc: 0.7915\n",
            "Epoch 65/150\n",
            "49502/49502 [==============================] - 1s 10us/step - loss: 0.0220 - acc: 0.8705 - val_loss: 0.0333 - val_acc: 0.7908\n",
            "Epoch 66/150\n",
            "49502/49502 [==============================] - 1s 11us/step - loss: 0.0219 - acc: 0.8708 - val_loss: 0.0336 - val_acc: 0.7886\n",
            "Epoch 67/150\n",
            "49502/49502 [==============================] - 1s 11us/step - loss: 0.0219 - acc: 0.8719 - val_loss: 0.0333 - val_acc: 0.7898\n",
            "Epoch 68/150\n",
            "49502/49502 [==============================] - 1s 11us/step - loss: 0.0217 - acc: 0.8725 - val_loss: 0.0334 - val_acc: 0.7895\n",
            "Epoch 69/150\n",
            "49502/49502 [==============================] - 1s 11us/step - loss: 0.0217 - acc: 0.8723 - val_loss: 0.0335 - val_acc: 0.7910\n",
            "Epoch 70/150\n",
            "49502/49502 [==============================] - 1s 11us/step - loss: 0.0216 - acc: 0.8740 - val_loss: 0.0338 - val_acc: 0.7881\n",
            "Epoch 71/150\n",
            "49502/49502 [==============================] - 1s 13us/step - loss: 0.0215 - acc: 0.8740 - val_loss: 0.0337 - val_acc: 0.7881\n",
            "Epoch 72/150\n",
            "49502/49502 [==============================] - 1s 12us/step - loss: 0.0216 - acc: 0.8731 - val_loss: 0.0337 - val_acc: 0.7897\n",
            "Epoch 73/150\n",
            "49502/49502 [==============================] - 1s 12us/step - loss: 0.0215 - acc: 0.8744 - val_loss: 0.0338 - val_acc: 0.7906\n",
            "Epoch 74/150\n",
            "49502/49502 [==============================] - 1s 12us/step - loss: 0.0214 - acc: 0.8758 - val_loss: 0.0339 - val_acc: 0.7878\n",
            "Epoch 75/150\n",
            "49502/49502 [==============================] - 1s 12us/step - loss: 0.0214 - acc: 0.8758 - val_loss: 0.0339 - val_acc: 0.7872\n",
            "Epoch 76/150\n",
            "49502/49502 [==============================] - 1s 12us/step - loss: 0.0213 - acc: 0.8755 - val_loss: 0.0341 - val_acc: 0.7856\n",
            "Epoch 77/150\n",
            "49502/49502 [==============================] - 1s 12us/step - loss: 0.0212 - acc: 0.8766 - val_loss: 0.0342 - val_acc: 0.7872\n",
            "Epoch 78/150\n",
            "49502/49502 [==============================] - 1s 12us/step - loss: 0.0212 - acc: 0.8770 - val_loss: 0.0343 - val_acc: 0.7852\n",
            "Epoch 79/150\n",
            "49502/49502 [==============================] - 1s 12us/step - loss: 0.0211 - acc: 0.8775 - val_loss: 0.0343 - val_acc: 0.7855\n",
            "Epoch 80/150\n",
            "49502/49502 [==============================] - 1s 12us/step - loss: 0.0211 - acc: 0.8780 - val_loss: 0.0342 - val_acc: 0.7870\n",
            "Epoch 81/150\n",
            "49502/49502 [==============================] - 1s 12us/step - loss: 0.0210 - acc: 0.8778 - val_loss: 0.0342 - val_acc: 0.7887\n",
            "Epoch 82/150\n",
            "49502/49502 [==============================] - 1s 12us/step - loss: 0.0209 - acc: 0.8793 - val_loss: 0.0341 - val_acc: 0.7892\n",
            "Epoch 83/150\n",
            "49502/49502 [==============================] - 1s 12us/step - loss: 0.0209 - acc: 0.8789 - val_loss: 0.0341 - val_acc: 0.7880\n",
            "Epoch 84/150\n",
            "49502/49502 [==============================] - 1s 13us/step - loss: 0.0208 - acc: 0.8789 - val_loss: 0.0343 - val_acc: 0.7880\n",
            "Epoch 85/150\n",
            "49502/49502 [==============================] - 1s 13us/step - loss: 0.0208 - acc: 0.8796 - val_loss: 0.0342 - val_acc: 0.7881\n",
            "Epoch 86/150\n",
            "49502/49502 [==============================] - 1s 13us/step - loss: 0.0207 - acc: 0.8801 - val_loss: 0.0343 - val_acc: 0.7860\n",
            "Epoch 87/150\n",
            "49502/49502 [==============================] - 1s 13us/step - loss: 0.0207 - acc: 0.8808 - val_loss: 0.0344 - val_acc: 0.7887\n",
            "Epoch 88/150\n",
            "49502/49502 [==============================] - 1s 13us/step - loss: 0.0205 - acc: 0.8820 - val_loss: 0.0346 - val_acc: 0.7868\n",
            "Epoch 89/150\n",
            "49502/49502 [==============================] - 1s 12us/step - loss: 0.0206 - acc: 0.8814 - val_loss: 0.0344 - val_acc: 0.7880\n",
            "Epoch 90/150\n",
            "49502/49502 [==============================] - 1s 13us/step - loss: 0.0205 - acc: 0.8829 - val_loss: 0.0345 - val_acc: 0.7878\n",
            "Epoch 91/150\n",
            "49502/49502 [==============================] - 1s 13us/step - loss: 0.0205 - acc: 0.8827 - val_loss: 0.0345 - val_acc: 0.7881\n",
            "Epoch 92/150\n",
            "49502/49502 [==============================] - 1s 12us/step - loss: 0.0204 - acc: 0.8825 - val_loss: 0.0345 - val_acc: 0.7880\n",
            "Epoch 93/150\n",
            "49502/49502 [==============================] - 1s 13us/step - loss: 0.0203 - acc: 0.8844 - val_loss: 0.0347 - val_acc: 0.7864\n",
            "Epoch 94/150\n",
            "49502/49502 [==============================] - 1s 12us/step - loss: 0.0203 - acc: 0.8838 - val_loss: 0.0348 - val_acc: 0.7871\n",
            "Epoch 95/150\n",
            "49502/49502 [==============================] - 1s 13us/step - loss: 0.0203 - acc: 0.8840 - val_loss: 0.0347 - val_acc: 0.7848\n",
            "Epoch 96/150\n",
            "49502/49502 [==============================] - 1s 13us/step - loss: 0.0202 - acc: 0.8843 - val_loss: 0.0350 - val_acc: 0.7844\n",
            "Epoch 97/150\n",
            "49502/49502 [==============================] - 1s 12us/step - loss: 0.0202 - acc: 0.8844 - val_loss: 0.0350 - val_acc: 0.7853\n",
            "Epoch 98/150\n",
            "49502/49502 [==============================] - 1s 13us/step - loss: 0.0202 - acc: 0.8844 - val_loss: 0.0351 - val_acc: 0.7830\n",
            "Epoch 99/150\n",
            "49502/49502 [==============================] - 1s 13us/step - loss: 0.0201 - acc: 0.8851 - val_loss: 0.0349 - val_acc: 0.7860\n",
            "Epoch 100/150\n",
            "49502/49502 [==============================] - 1s 12us/step - loss: 0.0200 - acc: 0.8857 - val_loss: 0.0352 - val_acc: 0.7829\n",
            "Epoch 101/150\n",
            "49502/49502 [==============================] - 1s 11us/step - loss: 0.0199 - acc: 0.8868 - val_loss: 0.0352 - val_acc: 0.7851\n",
            "Epoch 102/150\n",
            "49502/49502 [==============================] - 1s 11us/step - loss: 0.0200 - acc: 0.8863 - val_loss: 0.0353 - val_acc: 0.7844\n",
            "Epoch 103/150\n",
            "49502/49502 [==============================] - 1s 11us/step - loss: 0.0199 - acc: 0.8861 - val_loss: 0.0352 - val_acc: 0.7846\n",
            "Epoch 104/150\n",
            "49502/49502 [==============================] - 1s 10us/step - loss: 0.0199 - acc: 0.8870 - val_loss: 0.0352 - val_acc: 0.7852\n",
            "Epoch 105/150\n",
            "49502/49502 [==============================] - 1s 11us/step - loss: 0.0197 - acc: 0.8880 - val_loss: 0.0353 - val_acc: 0.7863\n",
            "Epoch 106/150\n",
            "49502/49502 [==============================] - 1s 11us/step - loss: 0.0197 - acc: 0.8887 - val_loss: 0.0354 - val_acc: 0.7844\n",
            "Epoch 107/150\n",
            "49502/49502 [==============================] - 1s 11us/step - loss: 0.0197 - acc: 0.8891 - val_loss: 0.0356 - val_acc: 0.7847\n",
            "Epoch 108/150\n",
            "49502/49502 [==============================] - 1s 10us/step - loss: 0.0196 - acc: 0.8894 - val_loss: 0.0355 - val_acc: 0.7849\n",
            "Epoch 109/150\n",
            "49502/49502 [==============================] - 1s 11us/step - loss: 0.0196 - acc: 0.8892 - val_loss: 0.0355 - val_acc: 0.7851\n",
            "Epoch 110/150\n",
            "49502/49502 [==============================] - 1s 11us/step - loss: 0.0196 - acc: 0.8899 - val_loss: 0.0355 - val_acc: 0.7836\n",
            "Epoch 111/150\n",
            "49502/49502 [==============================] - 1s 11us/step - loss: 0.0195 - acc: 0.8901 - val_loss: 0.0356 - val_acc: 0.7854\n",
            "Epoch 112/150\n",
            "49502/49502 [==============================] - 1s 11us/step - loss: 0.0195 - acc: 0.8892 - val_loss: 0.0354 - val_acc: 0.7857\n",
            "Epoch 113/150\n",
            "49502/49502 [==============================] - 1s 11us/step - loss: 0.0195 - acc: 0.8908 - val_loss: 0.0356 - val_acc: 0.7853\n",
            "Epoch 114/150\n",
            "49502/49502 [==============================] - 1s 10us/step - loss: 0.0194 - acc: 0.8910 - val_loss: 0.0355 - val_acc: 0.7849\n",
            "Epoch 115/150\n",
            "49502/49502 [==============================] - 1s 11us/step - loss: 0.0195 - acc: 0.8894 - val_loss: 0.0356 - val_acc: 0.7839\n",
            "Epoch 116/150\n",
            "49502/49502 [==============================] - 1s 11us/step - loss: 0.0192 - acc: 0.8924 - val_loss: 0.0356 - val_acc: 0.7850\n",
            "Epoch 117/150\n",
            "49502/49502 [==============================] - 1s 11us/step - loss: 0.0193 - acc: 0.8918 - val_loss: 0.0358 - val_acc: 0.7850\n",
            "Epoch 118/150\n",
            "49502/49502 [==============================] - 1s 11us/step - loss: 0.0193 - acc: 0.8915 - val_loss: 0.0357 - val_acc: 0.7856\n",
            "Epoch 119/150\n",
            "49502/49502 [==============================] - 1s 11us/step - loss: 0.0192 - acc: 0.8924 - val_loss: 0.0358 - val_acc: 0.7851\n",
            "Epoch 120/150\n",
            "49502/49502 [==============================] - 1s 11us/step - loss: 0.0192 - acc: 0.8919 - val_loss: 0.0358 - val_acc: 0.7840\n",
            "Epoch 121/150\n",
            "49502/49502 [==============================] - 1s 10us/step - loss: 0.0191 - acc: 0.8936 - val_loss: 0.0358 - val_acc: 0.7863\n",
            "Epoch 122/150\n",
            "49502/49502 [==============================] - 1s 11us/step - loss: 0.0191 - acc: 0.8935 - val_loss: 0.0359 - val_acc: 0.7853\n",
            "Epoch 123/150\n",
            "49502/49502 [==============================] - 1s 11us/step - loss: 0.0190 - acc: 0.8938 - val_loss: 0.0360 - val_acc: 0.7852\n",
            "Epoch 124/150\n",
            "49502/49502 [==============================] - 1s 10us/step - loss: 0.0190 - acc: 0.8939 - val_loss: 0.0359 - val_acc: 0.7849\n",
            "Epoch 125/150\n",
            "49502/49502 [==============================] - 1s 11us/step - loss: 0.0190 - acc: 0.8951 - val_loss: 0.0362 - val_acc: 0.7822\n",
            "Epoch 126/150\n",
            "49502/49502 [==============================] - 1s 11us/step - loss: 0.0189 - acc: 0.8954 - val_loss: 0.0362 - val_acc: 0.7826\n",
            "Epoch 127/150\n",
            "49502/49502 [==============================] - 1s 11us/step - loss: 0.0188 - acc: 0.8950 - val_loss: 0.0362 - val_acc: 0.7851\n",
            "Epoch 128/150\n",
            "49502/49502 [==============================] - 1s 11us/step - loss: 0.0189 - acc: 0.8951 - val_loss: 0.0361 - val_acc: 0.7841\n",
            "Epoch 129/150\n",
            "49502/49502 [==============================] - 1s 10us/step - loss: 0.0188 - acc: 0.8955 - val_loss: 0.0362 - val_acc: 0.7851\n",
            "Epoch 130/150\n",
            "49502/49502 [==============================] - 1s 11us/step - loss: 0.0188 - acc: 0.8955 - val_loss: 0.0361 - val_acc: 0.7832\n",
            "Epoch 131/150\n",
            "49502/49502 [==============================] - 1s 10us/step - loss: 0.0187 - acc: 0.8970 - val_loss: 0.0362 - val_acc: 0.7844\n",
            "Epoch 132/150\n",
            "49502/49502 [==============================] - 1s 11us/step - loss: 0.0187 - acc: 0.8955 - val_loss: 0.0363 - val_acc: 0.7829\n",
            "Epoch 133/150\n",
            "49502/49502 [==============================] - 1s 10us/step - loss: 0.0187 - acc: 0.8966 - val_loss: 0.0362 - val_acc: 0.7830\n",
            "Epoch 134/150\n",
            "49502/49502 [==============================] - 1s 11us/step - loss: 0.0186 - acc: 0.8972 - val_loss: 0.0364 - val_acc: 0.7829\n",
            "Epoch 135/150\n",
            "49502/49502 [==============================] - 1s 11us/step - loss: 0.0186 - acc: 0.8973 - val_loss: 0.0363 - val_acc: 0.7835\n",
            "Epoch 136/150\n",
            "49502/49502 [==============================] - 1s 11us/step - loss: 0.0185 - acc: 0.8978 - val_loss: 0.0365 - val_acc: 0.7846\n",
            "Epoch 137/150\n",
            "49502/49502 [==============================] - 1s 11us/step - loss: 0.0185 - acc: 0.8983 - val_loss: 0.0366 - val_acc: 0.7832\n",
            "Epoch 138/150\n",
            "49502/49502 [==============================] - 1s 11us/step - loss: 0.0184 - acc: 0.8992 - val_loss: 0.0365 - val_acc: 0.7833\n",
            "Epoch 139/150\n",
            "49502/49502 [==============================] - 1s 10us/step - loss: 0.0184 - acc: 0.8987 - val_loss: 0.0364 - val_acc: 0.7844\n",
            "Epoch 140/150\n",
            "49502/49502 [==============================] - 1s 11us/step - loss: 0.0184 - acc: 0.8981 - val_loss: 0.0365 - val_acc: 0.7851\n",
            "Epoch 141/150\n",
            "49502/49502 [==============================] - 1s 11us/step - loss: 0.0183 - acc: 0.8991 - val_loss: 0.0368 - val_acc: 0.7817\n",
            "Epoch 142/150\n",
            "49502/49502 [==============================] - 1s 11us/step - loss: 0.0184 - acc: 0.8995 - val_loss: 0.0368 - val_acc: 0.7843\n",
            "Epoch 143/150\n",
            "49502/49502 [==============================] - 1s 11us/step - loss: 0.0183 - acc: 0.8998 - val_loss: 0.0366 - val_acc: 0.7827\n",
            "Epoch 144/150\n",
            "49502/49502 [==============================] - 1s 11us/step - loss: 0.0183 - acc: 0.9003 - val_loss: 0.0367 - val_acc: 0.7830\n",
            "Epoch 145/150\n",
            "49502/49502 [==============================] - 1s 11us/step - loss: 0.0182 - acc: 0.8996 - val_loss: 0.0366 - val_acc: 0.7835\n",
            "Epoch 146/150\n",
            "49502/49502 [==============================] - 1s 11us/step - loss: 0.0183 - acc: 0.8999 - val_loss: 0.0368 - val_acc: 0.7828\n",
            "Epoch 147/150\n",
            "49502/49502 [==============================] - 1s 10us/step - loss: 0.0182 - acc: 0.9000 - val_loss: 0.0368 - val_acc: 0.7818\n",
            "Epoch 148/150\n",
            "49502/49502 [==============================] - 1s 11us/step - loss: 0.0182 - acc: 0.9010 - val_loss: 0.0369 - val_acc: 0.7834\n",
            "Epoch 149/150\n",
            "49502/49502 [==============================] - 1s 11us/step - loss: 0.0181 - acc: 0.9013 - val_loss: 0.0369 - val_acc: 0.7825\n",
            "Epoch 150/150\n",
            "49502/49502 [==============================] - 1s 11us/step - loss: 0.0182 - acc: 0.9008 - val_loss: 0.0368 - val_acc: 0.7827\n"
          ],
          "name": "stdout"
        }
      ]
    },
    {
      "cell_type": "markdown",
      "metadata": {
        "id": "9ifSEa_AD08D",
        "colab_type": "text"
      },
      "source": [
        "# ***Classification Report for MLP***"
      ]
    },
    {
      "cell_type": "code",
      "metadata": {
        "id": "8qRDnQ11_Zp6",
        "colab_type": "code",
        "outputId": "67f3f64d-e991-4a74-aca0-c5ac706630d1",
        "colab": {
          "base_uri": "https://localhost:8080/",
          "height": 319
        }
      },
      "source": [
        "from sklearn.metrics import classification_report\n",
        "from sklearn import metrics\n",
        "y_pred_mlp = to_categorical(MLP_model.predict_classes(x_test))\n",
        "report_classification = metrics.classification_report(y_test_one_hot,y_pred_mlp)\n",
        "print(\"report_classification : \")\n",
        "print(report_classification)"
      ],
      "execution_count": 0,
      "outputs": [
        {
          "output_type": "stream",
          "text": [
            "report_classification : \n",
            "              precision    recall  f1-score   support\n",
            "\n",
            "           0       0.57      0.52      0.54       391\n",
            "           1       0.73      0.82      0.77      3236\n",
            "           2       0.56      0.49      0.52      1664\n",
            "           3       0.62      0.49      0.55       550\n",
            "           4       0.94      0.96      0.95       508\n",
            "           5       0.93      0.93      0.93      2747\n",
            "           6       0.67      0.61      0.64       556\n",
            "           7       0.90      0.89      0.89      1701\n",
            "           8       0.83      0.85      0.84      1023\n",
            "\n",
            "   micro avg       0.78      0.78      0.78     12376\n",
            "   macro avg       0.75      0.73      0.74     12376\n",
            "weighted avg       0.78      0.78      0.78     12376\n",
            " samples avg       0.78      0.78      0.78     12376\n",
            "\n"
          ],
          "name": "stdout"
        }
      ]
    },
    {
      "cell_type": "markdown",
      "metadata": {
        "id": "xPoYkhJbDuNO",
        "colab_type": "text"
      },
      "source": [
        "# ***Training and validation accuracy of MLP***"
      ]
    },
    {
      "cell_type": "code",
      "metadata": {
        "id": "4dRFijBJCdhF",
        "colab_type": "code",
        "outputId": "c61638fa-dce7-4836-d33f-96b66b46e754",
        "colab": {
          "base_uri": "https://localhost:8080/",
          "height": 545
        }
      },
      "source": [
        "import matplotlib.pyplot as plt\n",
        "\n",
        "acc = MLP_history.history['acc']\n",
        "val_acc = MLP_history.history['val_acc']\n",
        "loss = MLP_history.history['loss']\n",
        "val_loss = MLP_history.history['val_loss']\n",
        "\n",
        "epochs = range(len(acc))\n",
        "\n",
        "plt.plot(epochs, acc, 'g', label='Training acc')\n",
        "plt.plot(epochs, val_acc, 'r', label='Validation acc')\n",
        "plt.title('Training and validation accuracy')\n",
        "plt.legend()\n",
        "\n",
        "plt.figure()\n",
        "\n",
        "plt.plot(epochs, loss, 'g', label='Training loss')\n",
        "plt.plot(epochs, val_loss, 'r', label='Validation loss')\n",
        "plt.title('Training and validation loss')\n",
        "plt.legend()\n",
        "\n",
        "plt.show()"
      ],
      "execution_count": 0,
      "outputs": [
        {
          "output_type": "display_data",
          "data": {
            "image/png": "[encoded data removed]",
            "text/plain": [
              "<Figure size 432x288 with 1 Axes>"
            ]
          },
          "metadata": {
            "tags": []
          }
        },
        {
          "output_type": "display_data",
          "data": {
            "image/png": "[encoded data removed]",
            "text/plain": [
              "<Figure size 432x288 with 1 Axes>"
            ]
          },
          "metadata": {
            "tags": []
          }
        }
      ]
    },
    {
      "cell_type": "markdown",
      "metadata": {
        "id": "DbcckQ6tDU69",
        "colab_type": "text"
      },
      "source": [
        "# ***ROC for MLP***"
      ]
    },
    {
      "cell_type": "code",
      "metadata": {
        "id": "O-MqNEMLC8DQ",
        "colab_type": "code",
        "outputId": "04e7988d-20d0-4e34-f774-77e6e193d5b3",
        "colab": {
          "base_uri": "https://localhost:8080/",
          "height": 281
        }
      },
      "source": [
        "from sklearn.metrics import roc_curve\n",
        "fpr = dict()\n",
        "tpr = dict()\n",
        "for i in range(9):\n",
        "    fpr[i], tpr[i], _ = roc_curve(y_test_one_hot[:, i], y_pred_mlp[:, i])\n",
        "\n",
        "for i in range(9):\n",
        "    plt.plot(fpr[i], tpr[i],\n",
        "             label='ROC for class {0}'.format(i))\n",
        "\n",
        "plt.plot([0, 1], [0, 1], 'k--')\n",
        "plt.xlim([0.0, 1.0])\n",
        "plt.ylim([0.0, 1.05])\n",
        "plt.legend(loc=\"lower right\")\n",
        "plt.title(\"ROC for MLP\")\n",
        "plt.show()"
      ],
      "execution_count": 0,
      "outputs": [
        {
          "output_type": "display_data",
          "data": {
            "image/png": "[encoded data removed]",
            "text/plain": [
              "<Figure size 432x288 with 1 Axes>"
            ]
          },
          "metadata": {
            "tags": []
          }
        }
      ]
    },
    {
      "cell_type": "markdown",
      "metadata": {
        "id": "KkfnetT9EDbi",
        "colab_type": "text"
      },
      "source": [
        "# ***Training with K-Nearest Neighbors***"
      ]
    },
    {
      "cell_type": "code",
      "metadata": {
        "id": "1di4NdcCECIa",
        "colab_type": "code",
        "outputId": "6dc9526d-f8f2-44f0-b370-72d0571b81d3",
        "colab": {
          "base_uri": "https://localhost:8080/",
          "height": 70
        }
      },
      "source": [
        "from sklearn.neighbors import KNeighborsClassifier\n",
        "knn = KNeighborsClassifier(n_neighbors=25 )\n",
        "knn.fit(x_train, y_train.astype(np.int64))\n",
        "y_pred_knn = knn.predict(x_test)"
      ],
      "execution_count": 0,
      "outputs": [
        {
          "output_type": "stream",
          "text": [
            "/usr/local/lib/python3.6/dist-packages/ipykernel_launcher.py:3: DataConversionWarning: A column-vector y was passed when a 1d array was expected. Please change the shape of y to (n_samples, ), for example using ravel().\n",
            "  This is separate from the ipykernel package so we can avoid doing imports until\n"
          ],
          "name": "stderr"
        }
      ]
    },
    {
      "cell_type": "markdown",
      "metadata": {
        "id": "c--6Jk4hISNH",
        "colab_type": "text"
      },
      "source": [
        "# ***Classification Report for KNN***"
      ]
    },
    {
      "cell_type": "code",
      "metadata": {
        "id": "R4nB81tkHJmW",
        "colab_type": "code",
        "outputId": "476c843d-3fa7-4d58-9f84-f07c10194cbf",
        "colab": {
          "base_uri": "https://localhost:8080/",
          "height": 319
        }
      },
      "source": [
        "report_classification = metrics.classification_report(y_test_one_hot,to_categorical(y_pred_knn-1))\n",
        "print(\"report_classification : \")\n",
        "print(report_classification)"
      ],
      "execution_count": 0,
      "outputs": [
        {
          "output_type": "stream",
          "text": [
            "report_classification : \n",
            "              precision    recall  f1-score   support\n",
            "\n",
            "           0       0.59      0.44      0.51       391\n",
            "           1       0.66      0.87      0.75      3236\n",
            "           2       0.56      0.44      0.49      1664\n",
            "           3       0.80      0.17      0.28       550\n",
            "           4       0.91      0.96      0.93       508\n",
            "           5       0.94      0.92      0.93      2747\n",
            "           6       0.71      0.55      0.62       556\n",
            "           7       0.89      0.88      0.89      1701\n",
            "           8       0.80      0.87      0.83      1023\n",
            "\n",
            "   micro avg       0.77      0.77      0.77     12376\n",
            "   macro avg       0.76      0.68      0.69     12376\n",
            "weighted avg       0.77      0.77      0.75     12376\n",
            " samples avg       0.77      0.77      0.77     12376\n",
            "\n"
          ],
          "name": "stdout"
        }
      ]
    },
    {
      "cell_type": "markdown",
      "metadata": {
        "id": "Aik2wtQiHWfH",
        "colab_type": "text"
      },
      "source": [
        "# ***ROC for KNN***"
      ]
    },
    {
      "cell_type": "code",
      "metadata": {
        "id": "qIHYV8wTHQ3Z",
        "colab_type": "code",
        "outputId": "e6ae8038-985a-431a-ee56-dd8c19b8d4ba",
        "colab": {
          "base_uri": "https://localhost:8080/",
          "height": 281
        }
      },
      "source": [
        "fpr = dict()\n",
        "tpr = dict()\n",
        "for i in range(9):\n",
        "    fpr[i], tpr[i], _ = roc_curve(y_test_one_hot[:, i], to_categorical(y_pred_knn-1)[:, i])\n",
        "\n",
        "for i in range(9):\n",
        "    plt.plot(fpr[i], tpr[i],\n",
        "             label='ROC for class {0}'.format(i))\n",
        "\n",
        "plt.plot([0, 1], [0, 1], 'k--')\n",
        "plt.xlim([0.0, 1.0])\n",
        "plt.ylim([0.0, 1.05])\n",
        "plt.legend(loc=\"lower right\")\n",
        "plt.title(\"ROC for KNN\")\n",
        "plt.show()"
      ],
      "execution_count": 0,
      "outputs": [
        {
          "output_type": "display_data",
          "data": {
            "image/png": "[encoded data removed]",
            "text/plain": [
              "<Figure size 432x288 with 1 Axes>"
            ]
          },
          "metadata": {
            "tags": []
          }
        }
      ]
    },
    {
      "cell_type": "markdown",
      "metadata": {
        "id": "hbBwW4jTHo91",
        "colab_type": "text"
      },
      "source": [
        "# ***Training with Support Vector Machines (SVM)***"
      ]
    },
    {
      "cell_type": "code",
      "metadata": {
        "id": "uyCU2d9aHw1E",
        "colab_type": "code",
        "outputId": "c97a5363-e6b5-4709-bd99-9ff4333aedee",
        "colab": {
          "base_uri": "https://localhost:8080/",
          "height": 70
        }
      },
      "source": [
        "y_train_svm = y_train.astype(np.int64)\n",
        "from sklearn import svm\n",
        "clf_svm = svm.SVC(gamma='auto')\n",
        "clf_svm.fit(x_train,y_train_svm)\n",
        "y_pred_svm = clf_svm.predict(x_test)"
      ],
      "execution_count": 0,
      "outputs": [
        {
          "output_type": "stream",
          "text": [
            "/usr/local/lib/python3.6/dist-packages/sklearn/utils/validation.py:761: DataConversionWarning: A column-vector y was passed when a 1d array was expected. Please change the shape of y to (n_samples, ), for example using ravel().\n",
            "  y = column_or_1d(y, warn=True)\n"
          ],
          "name": "stderr"
        }
      ]
    },
    {
      "cell_type": "markdown",
      "metadata": {
        "id": "OknIvPvQIYvx",
        "colab_type": "text"
      },
      "source": [
        "# ***Classification Report for SVM***"
      ]
    },
    {
      "cell_type": "code",
      "metadata": {
        "id": "zeiNVmdVH_Z2",
        "colab_type": "code",
        "outputId": "2e14da50-272f-4de2-c804-dad0ff03377d",
        "colab": {
          "base_uri": "https://localhost:8080/",
          "height": 319
        }
      },
      "source": [
        "y_pred_svm = to_categorical(y_pred_svm-1)\n",
        "report_classification = metrics.classification_report(y_test_one_hot,y_pred_svm)\n",
        "print(\"report_classification for SVM : \")\n",
        "print(report_classification)"
      ],
      "execution_count": 0,
      "outputs": [
        {
          "output_type": "stream",
          "text": [
            "report_classification for SVM : \n",
            "              precision    recall  f1-score   support\n",
            "\n",
            "           0       0.71      0.45      0.55       391\n",
            "           1       0.70      0.89      0.78      3236\n",
            "           2       0.63      0.42      0.50      1664\n",
            "           3       0.90      0.35      0.50       550\n",
            "           4       0.96      0.96      0.96       508\n",
            "           5       0.94      0.92      0.93      2747\n",
            "           6       0.70      0.54      0.61       556\n",
            "           7       0.77      0.93      0.84      1701\n",
            "           8       0.84      0.83      0.83      1023\n",
            "\n",
            "   micro avg       0.78      0.78      0.78     12376\n",
            "   macro avg       0.79      0.70      0.72     12376\n",
            "weighted avg       0.78      0.78      0.77     12376\n",
            " samples avg       0.78      0.78      0.78     12376\n",
            "\n"
          ],
          "name": "stdout"
        }
      ]
    },
    {
      "cell_type": "markdown",
      "metadata": {
        "id": "ZaFkF14uIBly",
        "colab_type": "text"
      },
      "source": [
        "# ***ROC for SVM***"
      ]
    },
    {
      "cell_type": "code",
      "metadata": {
        "id": "QnXFQetiIB81",
        "colab_type": "code",
        "outputId": "affff81a-dcb7-4f10-aea3-91e5acf4927b",
        "colab": {
          "base_uri": "https://localhost:8080/",
          "height": 281
        }
      },
      "source": [
        "fpr = dict()\n",
        "tpr = dict()\n",
        "for i in range(9):\n",
        "    fpr[i], tpr[i], _ = roc_curve(y_test_one_hot[:, i], y_pred_svm[:, i])\n",
        "\n",
        "for i in range(9):\n",
        "    plt.plot(fpr[i], tpr[i],\n",
        "             label='ROC for class {0}'.format(i))\n",
        "\n",
        "plt.plot([0, 1], [0, 1], 'k--')\n",
        "plt.xlim([0.0, 1.0])\n",
        "plt.ylim([0.0, 1.10])\n",
        "plt.legend(loc=\"lower right\")\n",
        "plt.title(\"ROC for SVM\")\n",
        "plt.show()"
      ],
      "execution_count": 0,
      "outputs": [
        {
          "output_type": "display_data",
          "data": {
            "image/png": "[encoded data removed]",
            "text/plain": [
              "<Figure size 432x288 with 1 Axes>"
            ]
          },
          "metadata": {
            "tags": []
          }
        }
      ]
    },
    {
      "cell_type": "markdown",
      "metadata": {
        "id": "t1Nq6UG0IoYw",
        "colab_type": "text"
      },
      "source": [
        "# ***Training with Random Forest***"
      ]
    },
    {
      "cell_type": "code",
      "metadata": {
        "id": "jPTYzBL_Iw6o",
        "colab_type": "code",
        "outputId": "17b0ca0f-467a-4ae2-b9da-54c381bbe2dd",
        "colab": {
          "base_uri": "https://localhost:8080/",
          "height": 70
        }
      },
      "source": [
        "from sklearn.ensemble import RandomForestClassifier\n",
        "clf_random_forest = RandomForestClassifier()\n",
        "clf_random_forest.fit(x_train, y_on_hot)\n",
        "y_pred_random_forest = clf_random_forest.predict(x_test)"
      ],
      "execution_count": 0,
      "outputs": [
        {
          "output_type": "stream",
          "text": [
            "/usr/local/lib/python3.6/dist-packages/sklearn/ensemble/forest.py:246: FutureWarning: The default value of n_estimators will change from 10 in version 0.20 to 100 in 0.22.\n",
            "  \"10 in version 0.20 to 100 in 0.22.\", FutureWarning)\n"
          ],
          "name": "stderr"
        }
      ]
    },
    {
      "cell_type": "markdown",
      "metadata": {
        "id": "MJBiSwGaI09y",
        "colab_type": "text"
      },
      "source": [
        "# ***Classification Report for Random Forest***"
      ]
    },
    {
      "cell_type": "code",
      "metadata": {
        "id": "xn-fov3tI-sK",
        "colab_type": "code",
        "outputId": "cf5a3585-59c3-4e01-a12b-4c029fb5a3da",
        "colab": {
          "base_uri": "https://localhost:8080/",
          "height": 373
        }
      },
      "source": [
        "report_classification = metrics.classification_report(y_test_one_hot,y_pred_random_forest)\n",
        "print(\"report_classification for Random Forest: \")\n",
        "print(report_classification)"
      ],
      "execution_count": 0,
      "outputs": [
        {
          "output_type": "stream",
          "text": [
            "report_classification for Random Forest: \n",
            "              precision    recall  f1-score   support\n",
            "\n",
            "           0       0.91      0.19      0.31       391\n",
            "           1       0.79      0.69      0.74      3236\n",
            "           2       0.68      0.31      0.43      1664\n",
            "           3       0.87      0.23      0.36       550\n",
            "           4       0.98      0.91      0.94       508\n",
            "           5       0.97      0.87      0.92      2747\n",
            "           6       0.88      0.26      0.40       556\n",
            "           7       0.94      0.78      0.85      1701\n",
            "           8       0.91      0.69      0.79      1023\n",
            "\n",
            "   micro avg       0.88      0.64      0.74     12376\n",
            "   macro avg       0.88      0.55      0.64     12376\n",
            "weighted avg       0.87      0.64      0.72     12376\n",
            " samples avg       0.64      0.64      0.64     12376\n",
            "\n"
          ],
          "name": "stdout"
        },
        {
          "output_type": "stream",
          "text": [
            "/usr/local/lib/python3.6/dist-packages/sklearn/metrics/classification.py:1143: UndefinedMetricWarning: Precision and F-score are ill-defined and being set to 0.0 in samples with no predicted labels.\n",
            "  'precision', 'predicted', average, warn_for)\n"
          ],
          "name": "stderr"
        }
      ]
    },
    {
      "cell_type": "markdown",
      "metadata": {
        "id": "2Bv47w5rJB8z",
        "colab_type": "text"
      },
      "source": [
        "# ***ROC for Random Forest***"
      ]
    },
    {
      "cell_type": "code",
      "metadata": {
        "id": "jUnjGKrZJHaG",
        "colab_type": "code",
        "outputId": "30adcd40-7ace-433f-8f82-1fe84d246dda",
        "colab": {
          "base_uri": "https://localhost:8080/",
          "height": 281
        }
      },
      "source": [
        "fpr = dict()\n",
        "tpr = dict()\n",
        "for i in range(9):\n",
        "    fpr[i], tpr[i], _ = roc_curve(y_test_one_hot[:, i], y_pred_random_forest[:, i])\n",
        "\n",
        "for i in range(9):\n",
        "    plt.plot(fpr[i], tpr[i],\n",
        "             label='ROC for class {0}'.format(i))\n",
        "\n",
        "plt.plot([0, 1], [0, 1], 'k--')\n",
        "plt.xlim([0.0, 1.0])\n",
        "plt.ylim([0.0, 1.10])\n",
        "plt.legend(loc=\"lower right\")\n",
        "plt.title(\"ROC for Random Forest\")\n",
        "plt.show()"
      ],
      "execution_count": 0,
      "outputs": [
        {
          "output_type": "display_data",
          "data": {
            "image/png": "[encoded data removed]",
            "text/plain": [
              "<Figure size 432x288 with 1 Axes>"
            ]
          },
          "metadata": {
            "tags": []
          }
        }
      ]
    },
    {
      "cell_type": "markdown",
      "metadata": {
        "id": "WKxemqMfJTjS",
        "colab_type": "text"
      },
      "source": [
        "# ***Training with XGBoost Method***"
      ]
    },
    {
      "cell_type": "code",
      "metadata": {
        "id": "LLVPoDgIJdoi",
        "colab_type": "code",
        "outputId": "f50a8ffa-64eb-41bc-e5e9-6cb5b366dded",
        "colab": {
          "base_uri": "https://localhost:8080/",
          "height": 205
        }
      },
      "source": [
        "import xgboost as xgb\n",
        "xgb_model = xgb.XGBClassifier(objective=\"multi:softprob\")\n",
        "xgb_model.fit(x_train, y_train)"
      ],
      "execution_count": 0,
      "outputs": [
        {
          "output_type": "stream",
          "text": [
            "/usr/local/lib/python3.6/dist-packages/sklearn/preprocessing/label.py:219: DataConversionWarning: A column-vector y was passed when a 1d array was expected. Please change the shape of y to (n_samples, ), for example using ravel().\n",
            "  y = column_or_1d(y, warn=True)\n",
            "/usr/local/lib/python3.6/dist-packages/sklearn/preprocessing/label.py:252: DataConversionWarning: A column-vector y was passed when a 1d array was expected. Please change the shape of y to (n_samples, ), for example using ravel().\n",
            "  y = column_or_1d(y, warn=True)\n"
          ],
          "name": "stderr"
        },
        {
          "output_type": "execute_result",
          "data": {
            "text/plain": [
              "XGBClassifier(base_score=0.5, booster='gbtree', colsample_bylevel=1,\n",
              "       colsample_bytree=1, gamma=0, learning_rate=0.1, max_delta_step=0,\n",
              "       max_depth=3, min_child_weight=1, missing=None, n_estimators=100,\n",
              "       n_jobs=1, nthread=None, objective='multi:softprob', random_state=0,\n",
              "       reg_alpha=0, reg_lambda=1, scale_pos_weight=1, seed=None,\n",
              "       silent=True, subsample=1)"
            ]
          },
          "metadata": {
            "tags": []
          },
          "execution_count": 18
        }
      ]
    },
    {
      "cell_type": "markdown",
      "metadata": {
        "id": "jl4k0ZecKIBf",
        "colab_type": "text"
      },
      "source": [
        "# ***Classification Report for XGBoost***"
      ]
    },
    {
      "cell_type": "code",
      "metadata": {
        "id": "dxyyzyt0KGCX",
        "colab_type": "code",
        "outputId": "41e000bd-89ad-4c1b-ca1e-86613970e888",
        "colab": {
          "base_uri": "https://localhost:8080/",
          "height": 319
        }
      },
      "source": [
        "y_pred_xgb = xgb_model.predict(x_test)\n",
        "y_pred_xgb = to_categorical(y_pred_xgb-1)\n",
        "report_classification = metrics.classification_report(y_test_one_hot,y_pred_xgb)\n",
        "print(\"report_classification for XGBoost : \")\n",
        "print(report_classification)"
      ],
      "execution_count": 0,
      "outputs": [
        {
          "output_type": "stream",
          "text": [
            "report_classification for XGBoost : \n",
            "              precision    recall  f1-score   support\n",
            "\n",
            "           0       0.64      0.31      0.42       391\n",
            "           1       0.65      0.88      0.75      3236\n",
            "           2       0.56      0.35      0.43      1664\n",
            "           3       0.82      0.31      0.45       550\n",
            "           4       0.94      0.95      0.95       508\n",
            "           5       0.92      0.93      0.92      2747\n",
            "           6       0.71      0.56      0.63       556\n",
            "           7       0.87      0.91      0.89      1701\n",
            "           8       0.82      0.84      0.83      1023\n",
            "\n",
            "   micro avg       0.77      0.77      0.77     12376\n",
            "   macro avg       0.77      0.67      0.70     12376\n",
            "weighted avg       0.76      0.77      0.75     12376\n",
            " samples avg       0.77      0.77      0.77     12376\n",
            "\n"
          ],
          "name": "stdout"
        }
      ]
    },
    {
      "cell_type": "markdown",
      "metadata": {
        "id": "X5Nh_knkKzPt",
        "colab_type": "text"
      },
      "source": [
        "# ***ROC for XGBoost***"
      ]
    },
    {
      "cell_type": "code",
      "metadata": {
        "id": "tFSUaX2YK4kH",
        "colab_type": "code",
        "outputId": "b5e534e6-4458-4531-968c-35b3bd04eaa3",
        "colab": {
          "base_uri": "https://localhost:8080/",
          "height": 281
        }
      },
      "source": [
        "fpr = dict()\n",
        "tpr = dict()\n",
        "for i in range(9):\n",
        "    fpr[i], tpr[i], _ = roc_curve(y_test_one_hot[:, i], y_pred_xgb[:, i])\n",
        "\n",
        "for i in range(9):\n",
        "    plt.plot(fpr[i], tpr[i],\n",
        "             label='ROC for  class {0}'.format(i))\n",
        "\n",
        "plt.plot([0, 1], [0, 1], 'k--')\n",
        "plt.xlim([0.0, 1.0])\n",
        "plt.ylim([0.0, 1.10])\n",
        "plt.legend(loc=\"lower right\")\n",
        "plt.title(\"ROC for XGBoost\")\n",
        "plt.show()"
      ],
      "execution_count": 0,
      "outputs": [
        {
          "output_type": "display_data",
          "data": {
            "image/png": "[encoded data removed]",
            "text/plain": [
              "<Figure size 432x288 with 1 Axes>"
            ]
          },
          "metadata": {
            "tags": []
          }
        }
      ]
    },
    {
      "cell_type": "markdown",
      "metadata": {
        "id": "u3R1tKu0LEXr",
        "colab_type": "text"
      },
      "source": [
        "# ***Comparison***"
      ]
    },
    {
      "cell_type": "markdown",
      "metadata": {
        "id": "kFJmzO0tLc7D",
        "colab_type": "text"
      },
      "source": [
        "precision factor --> Random Forest had the best result.\n",
        "\n",
        "Recall and f1_score -->SVM & MLP had better results \n",
        "\n",
        "Also via ROC curves we can find out which class has been predicted better"
      ]
    }
  ]
}